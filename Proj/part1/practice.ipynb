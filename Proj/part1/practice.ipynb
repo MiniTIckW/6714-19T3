{
 "cells": [
  {
   "cell_type": "code",
   "execution_count": 1,
   "metadata": {},
   "outputs": [],
   "source": [
    "import spacy"
   ]
  },
  {
   "cell_type": "code",
   "execution_count": 5,
   "metadata": {},
   "outputs": [
    {
     "data": {
      "text/plain": [
       "['Donald', 'Trump', 'Donald', 'Trump', 'Trump']"
      ]
     },
     "execution_count": 5,
     "metadata": {},
     "output_type": "execute_result"
    }
   ],
   "source": [
    "#Tokenization 分词\n",
    "nlp = spacy.load(\"en_core_web_sm\")\n",
    "doc = nlp(\"Donald Trump, Donald Trump, Trump.\")\n",
    "[token.orth_ for token in doc if not token.is_punct | token.is_space]"
   ]
  },
  {
   "cell_type": "code",
   "execution_count": 68,
   "metadata": {},
   "outputs": [
    {
     "data": {
      "text/plain": [
       "(Trump, New York, New York, New York City)"
      ]
     },
     "execution_count": 68,
     "metadata": {},
     "output_type": "execute_result"
    }
   ],
   "source": [
    "#entity\n",
    "doc.ents"
   ]
  },
  {
   "cell_type": "code",
   "execution_count": 56,
   "metadata": {},
   "outputs": [
    {
     "name": "stdout",
     "output_type": "stream",
     "text": [
      "The\n",
      "all\n",
      "of\n",
      "the\n",
      "he\n"
     ]
    }
   ],
   "source": [
    "#stop word\n",
    "for i in doc.text.split():\n",
    "    if  nlp.vocab[i].is_stop == True:\n",
    "        print(i)"
   ]
  },
  {
   "cell_type": "code",
   "execution_count": 62,
   "metadata": {},
   "outputs": [
    {
     "name": "stdout",
     "output_type": "stream",
     "text": [
      "['The', 'big', 'grey', 'dog', 'ate', 'all', 'of', 'the', 'chocolate', ',', 'but', 'fortunately', 'he', 'was', \"n't\", 'sick', '!']\n",
      "['The', 'big', 'grey', 'dog', 'ate', 'all', 'of', 'the', 'chocolate', 'but', 'fortunately', 'he', 'was', \"n't\", 'sick']\n",
      "[(The, 'The', 5059648917813135842), (big, 'big', 15511632813958231649), (grey, 'grey', 10475807793332549289), (dog, 'dog', 7562983679033046312), (ate, 'ate', 10806788082624814911), (all, 'all', 13409319323822384369), (of, 'of', 886050111519832510), (the, 'the', 7425985699627899538), (chocolate, 'chocolate', 10946593968795032542), (,, ',', 2593208677638477497), (but, 'but', 14560795576765492085), (fortunately, 'fortunately', 13851269277375979931), (he, 'he', 1655312771067108281), (was, 'was', 9921686513378912864), (n't, \"n't\", 2043519015752540944), (sick, 'sick', 14841597609857081305), (!, '!', 17494803046312582752)]\n"
     ]
    }
   ],
   "source": [
    "print([token.orth_ for token in doc])#可以识别标点\n",
    "print([token.orth_ for token in doc if not token.is_punct | token.is_space])\n",
    "print([(token, token.orth_, token.orth) for token in doc])"
   ]
  },
  {
   "cell_type": "code",
   "execution_count": 6,
   "metadata": {},
   "outputs": [
    {
     "data": {
      "text/plain": [
       "['practice', 'practice', 'practice']"
      ]
     },
     "execution_count": 6,
     "metadata": {},
     "output_type": "execute_result"
    }
   ],
   "source": [
    "#Lemmatization 词性还原\n",
    "practice = \"practice practiced practicing\"\n",
    "nlp_practice = [word.lemma_ for word in nlp(practice)]\n",
    "nlp_practice"
   ]
  },
  {
   "cell_type": "code",
   "execution_count": 11,
   "metadata": {},
   "outputs": [
    {
     "data": {
      "text/plain": [
       "[(Conor, 'NNP'),\n",
       " ('s, 'POS'),\n",
       " (dog, 'NN'),\n",
       " ('s, 'POS'),\n",
       " (toy, 'NN'),\n",
       " (was, 'VBD'),\n",
       " (hidden, 'VBN'),\n",
       " (under, 'IN'),\n",
       " (the, 'DT'),\n",
       " (man, 'NN'),\n",
       " ('s, 'POS'),\n",
       " (sofa, 'NN'),\n",
       " (in, 'IN'),\n",
       " (the, 'DT'),\n",
       " (woman, 'NN'),\n",
       " ('s, 'POS'),\n",
       " (house, 'NN')]"
      ]
     },
     "execution_count": 11,
     "metadata": {},
     "output_type": "execute_result"
    }
   ],
   "source": [
    "#POS Tagging 词性标注\n",
    "doc2 = nlp(\"Conor's dog's toy was hidden under the man's sofa in the woman's house\")\n",
    "pos_tags = [(i, i.tag_) for i in doc2]\n",
    "pos_tags"
   ]
  },
  {
   "cell_type": "code",
   "execution_count": 12,
   "metadata": {},
   "outputs": [
    {
     "data": {
      "text/plain": [
       "[(Conor, dog), (dog, toy), (man, sofa), (woman, house)]"
      ]
     },
     "execution_count": 12,
     "metadata": {},
     "output_type": "execute_result"
    }
   ],
   "source": [
    "#根据‘s的词性 判断拥有的物品\n",
    "owners_possessions = []\n",
    "for i in pos_tags:\n",
    "    if i[1] == \"POS\":\n",
    "        owner = i[0].nbor(-1)\n",
    "        possession = i[0].nbor(1)\n",
    "        owners_possessions.append((owner, possession))\n",
    "\n",
    "owners_possessions"
   ]
  },
  {
   "cell_type": "code",
   "execution_count": 13,
   "metadata": {
    "scrolled": true
   },
   "outputs": [
    {
     "data": {
      "text/plain": [
       "[(Barack Obama, 'PERSON', 380),\n",
       " (American, 'NORP', 381),\n",
       " (44th, 'ORDINAL', 396),\n",
       " (the United States, 'GPE', 384),\n",
       " (2009, 'DATE', 391),\n",
       " (2017, 'DATE', 391),\n",
       " (first, 'ORDINAL', 396),\n",
       " (African American, 'NORP', 381),\n",
       " (first, 'ORDINAL', 396),\n",
       " (United States, 'GPE', 384)]"
      ]
     },
     "execution_count": 13,
     "metadata": {},
     "output_type": "execute_result"
    }
   ],
   "source": [
    "#Entity Recognition 实体识别\n",
    "#PERSON 是不言自明的；NORP是国籍或宗教团体；GPE标识位置（城市、国家等等）；\n",
    "#DATE 标识特定的日期或日期范围， ORDINAL标识一个表示某种类型的顺序的单词或数字。\n",
    "wiki_obama = \"\"\"Barack Obama is an American politician who served as the 44th \n",
    "                President of the United States from 2009 to 2017. \n",
    "                He is the first African American to have served as president, \n",
    "                as well as the first born outside the contiguous United States.\"\"\"\n",
    "\n",
    "nlp_obama = nlp(wiki_obama)\n",
    "[(i, i.label_, i.label) for i in nlp_obama.ents]"
   ]
  },
  {
   "cell_type": "code",
   "execution_count": 15,
   "metadata": {},
   "outputs": [
    {
     "name": "stdout",
     "output_type": "stream",
     "text": [
      "Sentence number 1: Barack Obama is an American politician who served as the 44th \n",
      "                President of the United States from 2009 to 2017. \n",
      "                \n",
      "Sentence number 2: He is the first African American to have served as president, \n",
      "                as well as the first born outside the contiguous United States.\n",
      "['The', 'big', 'grey', 'dog', 'ate', 'all', 'of', 'the', 'chocolate', ',', 'but', 'fortunately', 'he', 'was', \"n't\", 'sick', '!']\n"
     ]
    }
   ],
   "source": [
    "#一段话分为句子\n",
    "for ix, sent in enumerate(nlp_obama.sents, 1):\n",
    "    print(\"Sentence number {}: {}\".format(ix, sent))"
   ]
  },
  {
   "cell_type": "code",
   "execution_count": 91,
   "metadata": {},
   "outputs": [
    {
     "data": {
      "text/plain": [
       "['b', 'a', 'c', 'b', 'd', 'a']"
      ]
     },
     "execution_count": 91,
     "metadata": {},
     "output_type": "execute_result"
    }
   ],
   "source": [
    "a = 'b a c b d a'.split()\n",
    "b = 'b b c b d a'\n",
    "e = 'a'\n",
    "a"
   ]
  },
  {
   "cell_type": "code",
   "execution_count": 8,
   "metadata": {},
   "outputs": [],
   "source": [
    "import pickle\n",
    "import project_part1 as project_part1\n",
    "fname = './Data/sample_documents.pickle'\n",
    "documents = {1: \"Donald Trump, Donald Trump, Trump.\"}\n",
    "index = project_part1.InvertedIndex()\n",
    "index.index_documents(documents)\n",
    "print(index.tf_tokens)"
   ]
  },
  {
   "cell_type": "code",
   "execution_count": 9,
   "metadata": {},
   "outputs": [
    {
     "data": {
      "text/plain": [
       "{'Donald Trump': {1: 2}, 'Trump': {1: 1}}"
      ]
     },
     "execution_count": 9,
     "metadata": {},
     "output_type": "execute_result"
    }
   ],
   "source": [
    "index.tf_entities"
   ]
  },
  {
   "cell_type": "code",
   "execution_count": 3,
   "metadata": {},
   "outputs": [
    {
     "ename": "TypeError",
     "evalue": "replace() takes at least 2 arguments (1 given)",
     "output_type": "error",
     "traceback": [
      "\u001b[0;31m---------------------------------------------------------------------------\u001b[0m",
      "\u001b[0;31mTypeError\u001b[0m                                 Traceback (most recent call last)",
      "\u001b[0;32m<ipython-input-3-0097eaab45aa>\u001b[0m in \u001b[0;36m<module>\u001b[0;34m\u001b[0m\n\u001b[1;32m      1\u001b[0m \u001b[0ma\u001b[0m \u001b[0;34m=\u001b[0m \u001b[0;34m[\u001b[0m\u001b[0;34m'a'\u001b[0m\u001b[0;34m,\u001b[0m\u001b[0;34m'b'\u001b[0m\u001b[0;34m,\u001b[0m\u001b[0;34m'c'\u001b[0m\u001b[0;34m,\u001b[0m\u001b[0;34m'a'\u001b[0m\u001b[0;34m]\u001b[0m\u001b[0;34m\u001b[0m\u001b[0;34m\u001b[0m\u001b[0m\n\u001b[1;32m      2\u001b[0m \u001b[0ma\u001b[0m \u001b[0;34m=\u001b[0m \u001b[0;34m'a b c d a'\u001b[0m\u001b[0;34m\u001b[0m\u001b[0;34m\u001b[0m\u001b[0m\n\u001b[0;32m----> 3\u001b[0;31m \u001b[0ma\u001b[0m\u001b[0;34m.\u001b[0m\u001b[0mreplace\u001b[0m\u001b[0;34m(\u001b[0m\u001b[0;34m'a'\u001b[0m\u001b[0;34m)\u001b[0m\u001b[0;34m\u001b[0m\u001b[0;34m\u001b[0m\u001b[0m\n\u001b[0m\u001b[1;32m      4\u001b[0m \u001b[0ma\u001b[0m\u001b[0;34m\u001b[0m\u001b[0;34m\u001b[0m\u001b[0m\n",
      "\u001b[0;31mTypeError\u001b[0m: replace() takes at least 2 arguments (1 given)"
     ]
    }
   ],
   "source": [
    "a = ['a','b','c','a']\n",
    "a = 'a b c d a'\n",
    "a.replace('a')\n",
    "a"
   ]
  },
  {
   "cell_type": "code",
   "execution_count": 3,
   "metadata": {},
   "outputs": [
    {
     "data": {
      "text/plain": [
       "(Donald Trump, Donald Trump, Trump)"
      ]
     },
     "execution_count": 3,
     "metadata": {},
     "output_type": "execute_result"
    }
   ],
   "source": [
    "import spacy\n",
    "nlp = spacy.load(\"en_core_web_sm\")\n",
    "document = \n",
    "nlp(document).ents"
   ]
  },
  {
   "cell_type": "code",
   "execution_count": null,
   "metadata": {},
   "outputs": [],
   "source": []
  }
 ],
 "metadata": {
  "kernelspec": {
   "display_name": "Python 3",
   "language": "python",
   "name": "python3"
  },
  "language_info": {
   "codemirror_mode": {
    "name": "ipython",
    "version": 3
   },
   "file_extension": ".py",
   "mimetype": "text/x-python",
   "name": "python",
   "nbconvert_exporter": "python",
   "pygments_lexer": "ipython3",
   "version": "3.7.4"
  }
 },
 "nbformat": 4,
 "nbformat_minor": 2
}
